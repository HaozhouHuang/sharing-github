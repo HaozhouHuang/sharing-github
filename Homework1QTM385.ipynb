{
 "cells": [
  {
   "cell_type": "markdown",
   "metadata": {},
   "source": [
    "# QTM 385\n",
    "\n",
    "***\n",
    "\n",
    "## Homework 1\n",
    "\n",
    "Student: Haozhou Huang[2343728]"
   ]
  },
  {
   "cell_type": "markdown",
   "metadata": {},
   "source": [
    "***\n",
    "\n",
    "### FAQ\n",
    "\n",
    "1. What are the criteria for full marks?\n",
    " \n",
    "> Two. Half of your grade is based on coding, and the other half is based on getting the results right.\n",
    "\n",
    "2. How to write a clean code?\n",
    "\n",
    "> Check out the PEP 8 Manual [here](https://www.python.org/dev/peps/pep-0008/). But in a nutshell:\n",
    "\n",
    "> - Indents should be four spaces (not tab)\n",
    "> - Limit all lines to a maximum of 79 characters (long blocks of text is limited to 72 characters)\n",
    "> - Use a space after a comma\n",
    "> - Use a space before and after arithmetic operators\n",
    "\n",
    "3. How to get the question right?\n",
    "\n",
    "> Answer to what has been asked. Not more, not less. Check twice that you did right and answered all the parts of the question. Like a good carpenter, measure twice, but cut only once: check your answers before submitting them.\n",
    "\n",
    "4. How do I submit my homework?\n",
    "\n",
    "> Two methods:\n",
    "\n",
    "> - Upload your Jupyter Notebook to your Github page. Put the Github link on Canvas, and I'll check (recommended).\n",
    "\n",
    "> - Upload your Jupyter Notebook on Canvas (not recommended).\n",
    "\n",
    "5. What to do if I have other questions?\n",
    "\n",
    "> Sign up for office hours using [this link.](https://calendly.com/umberto-mignozzetti/office-hours)\n",
    "\n",
    "**Good luck!**"
   ]
  },
  {
   "cell_type": "markdown",
   "metadata": {},
   "source": [
    "\n",
    "***\n",
    "\n",
    "### Question 1\n",
    "\n",
    "Run the following code:\n",
    "\n",
    "```\n",
    "0.1 + 0.1 + 0.1\n",
    "```\n",
    "\n",
    "Is it equal to `0.3`? If not, why?"
   ]
  },
  {
   "cell_type": "code",
   "execution_count": 5,
   "metadata": {
    "scrolled": true
   },
   "outputs": [
    {
     "data": {
      "text/plain": [
       "0.30000000000000004"
      ]
     },
     "execution_count": 5,
     "metadata": {},
     "output_type": "execute_result"
    }
   ],
   "source": [
    "0.1 + 0.1 + 0.1"
   ]
  },
  {
   "cell_type": "markdown",
   "metadata": {},
   "source": [
    "It is not equal to 0.3. Because the computer compute in decimal but in binary. The binary expression of the decimal number 0.1 is 0.000110011001100..., which has an infinite repeating fraction part. Computer stores this value as a double precision floating point number and approximate it to 0.00011001100110011001100110011001100110011001100110011001 based on IEEE 754 standard. By floating-point arithmetic, the computer adds them up and get the result 0.30000000000000004."
   ]
  },
  {
   "cell_type": "markdown",
   "metadata": {},
   "source": [
    "\n",
    "***\n",
    "\n",
    "### Question 2\n",
    "\n",
    "How many digits has $3^{1,000,000}$? (Hint: the function `str` transforms a number into a string.)"
   ]
  },
  {
   "cell_type": "code",
   "execution_count": 11,
   "metadata": {},
   "outputs": [
    {
     "data": {
      "text/plain": [
       "477122"
      ]
     },
     "execution_count": 11,
     "metadata": {},
     "output_type": "execute_result"
    }
   ],
   "source": [
    "a=str(3**1000000)\n",
    "len(a)"
   ]
  },
  {
   "cell_type": "markdown",
   "metadata": {},
   "source": [
    "There are total **477122** digits."
   ]
  },
  {
   "cell_type": "markdown",
   "metadata": {},
   "source": [
    "\n",
    "***\n",
    "\n",
    "### Question 3\n",
    "\n",
    "Create a tuple with three foods that you love to eat. Save it in a variable called `preferred_food`."
   ]
  },
  {
   "cell_type": "code",
   "execution_count": 18,
   "metadata": {},
   "outputs": [
    {
     "name": "stdout",
     "output_type": "stream",
     "text": [
      "('Fried Chicken', 'Hot Pot', 'Barbecue')\n"
     ]
    },
    {
     "data": {
      "text/plain": [
       "tuple"
      ]
     },
     "execution_count": 18,
     "metadata": {},
     "output_type": "execute_result"
    }
   ],
   "source": [
    "preferred_food = ('Fried Chicken','Hot Pot','Barbecue')\n",
    "print(preferred_food)\n",
    "type(preferred_food)"
   ]
  },
  {
   "cell_type": "markdown",
   "metadata": {},
   "source": [
    "\n",
    "***\n",
    "\n",
    "### Question 4\n",
    "\n",
    "The module random has a handy function for selecting elements in a tuple: `choice`. Import the module `random`, and name it `rd`."
   ]
  },
  {
   "cell_type": "code",
   "execution_count": 20,
   "metadata": {},
   "outputs": [],
   "source": [
    "import random as rd"
   ]
  },
  {
   "cell_type": "markdown",
   "metadata": {},
   "source": [
    "\n",
    "***\n",
    "\n",
    "### Question 5\n",
    "\n",
    "Using the function choice, select a food to eat today. (Hint: when we used `numpy`, I named it `np`. When I needed a function in it, I did `np.function_I_needed`...)"
   ]
  },
  {
   "cell_type": "code",
   "execution_count": 23,
   "metadata": {},
   "outputs": [
    {
     "data": {
      "text/plain": [
       "'Fried Chicken'"
      ]
     },
     "execution_count": 23,
     "metadata": {},
     "output_type": "execute_result"
    }
   ],
   "source": [
    "rd.choice(preferred_food)"
   ]
  },
  {
   "cell_type": "markdown",
   "metadata": {},
   "source": [
    "**That's all, folks!**"
   ]
  }
 ],
 "metadata": {
  "kernelspec": {
   "display_name": "Python 3",
   "language": "python",
   "name": "python3"
  },
  "language_info": {
   "codemirror_mode": {
    "name": "ipython",
    "version": 3
   },
   "file_extension": ".py",
   "mimetype": "text/x-python",
   "name": "python",
   "nbconvert_exporter": "python",
   "pygments_lexer": "ipython3",
   "version": "3.8.5"
  }
 },
 "nbformat": 4,
 "nbformat_minor": 4
}
